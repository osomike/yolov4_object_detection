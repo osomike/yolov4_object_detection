{
 "cells": [
  {
   "cell_type": "code",
   "execution_count": null,
   "metadata": {},
   "outputs": [],
   "source": [
    "import requests\n",
    "import cv2\n",
    "import numpy as np\n",
    "import matplotlib.pyplot as plt\n",
    "import io"
   ]
  },
  {
   "cell_type": "code",
   "execution_count": null,
   "metadata": {},
   "outputs": [],
   "source": [
    "# To run the server: uvicorn server:object_detection_server --reload"
   ]
  },
  {
   "cell_type": "markdown",
   "metadata": {},
   "source": [
    "### Setup resolution"
   ]
  },
  {
   "cell_type": "code",
   "execution_count": null,
   "metadata": {},
   "outputs": [],
   "source": [
    "# Possible image shapes for NOVIGA webcam\n",
    "WIDTH, HEIGHT = [(640, 360), (640, 480), (800, 600), (1280, 720), (1280, 960)][1]\n",
    "WIDTH, HEIGHT"
   ]
  },
  {
   "cell_type": "markdown",
   "metadata": {},
   "source": [
    "### Detect a single image"
   ]
  },
  {
   "cell_type": "code",
   "execution_count": null,
   "metadata": {},
   "outputs": [],
   "source": [
    "# open camera and configure it\n",
    "cap = cv2.VideoCapture(0)\n",
    "cap.set(3, WIDTH)\n",
    "cap.set(4, HEIGHT)"
   ]
  },
  {
   "cell_type": "code",
   "execution_count": null,
   "metadata": {},
   "outputs": [],
   "source": [
    "# capture frame\n",
    "ret, bgr_frame_i = cap.read()"
   ]
  },
  {
   "cell_type": "code",
   "execution_count": null,
   "metadata": {},
   "outputs": [],
   "source": [
    "# When everything done, release the capture\n",
    "cap.release()\n",
    "cv2.destroyAllWindows()"
   ]
  },
  {
   "cell_type": "code",
   "execution_count": null,
   "metadata": {},
   "outputs": [],
   "source": [
    "# plot image with detected objects\n",
    "plt.imshow(cv2.cvtColor(bgr_frame_i, cv2.COLOR_BGR2RGB))"
   ]
  },
  {
   "cell_type": "code",
   "execution_count": null,
   "metadata": {},
   "outputs": [],
   "source": [
    "bgr_frame_i.shape"
   ]
  },
  {
   "cell_type": "code",
   "execution_count": null,
   "metadata": {},
   "outputs": [],
   "source": [
    "# encode image as jpeg\n",
    "_, img_encoded = cv2.imencode('.jpg', bgr_frame_i)"
   ]
  },
  {
   "cell_type": "code",
   "execution_count": null,
   "metadata": {},
   "outputs": [],
   "source": [
    "img_encoded.shape"
   ]
  },
  {
   "cell_type": "code",
   "execution_count": null,
   "metadata": {},
   "outputs": [],
   "source": [
    "# send http request with image and receive response\n",
    "f = {'binary_file': img_encoded.tobytes()}\n",
    "response = requests.post(r'http://127.0.0.1:8000/detect_object', files=f)\n",
    "res = response.content"
   ]
  },
  {
   "cell_type": "code",
   "execution_count": null,
   "metadata": {},
   "outputs": [],
   "source": [
    "# decode binary\n",
    "array_received = np.frombuffer(res, np.uint8)\n",
    "array_received.shape"
   ]
  },
  {
   "cell_type": "code",
   "execution_count": null,
   "metadata": {},
   "outputs": [],
   "source": [
    "# reshape array\n",
    "img_bgr_received = array_received.reshape(bgr_frame_i.shape)"
   ]
  },
  {
   "cell_type": "code",
   "execution_count": null,
   "metadata": {},
   "outputs": [],
   "source": [
    "plt.imshow(cv2.cvtColor(img_bgr_received, cv2.COLOR_BGR2RGB))"
   ]
  },
  {
   "cell_type": "markdown",
   "metadata": {},
   "source": [
    "### Detect a streaming video"
   ]
  },
  {
   "cell_type": "code",
   "execution_count": null,
   "metadata": {},
   "outputs": [],
   "source": [
    "# Configure camera\n",
    "cap = cv2.VideoCapture(0)\n",
    "cap.set(3, WIDTH)\n",
    "cap.set(4, HEIGHT)\n",
    "\n",
    "while(True):\n",
    "    # Capture frame-by-frame\n",
    "    ret, bgr_frame_i = cap.read()\n",
    "    \n",
    "    # encode image as jpeg\n",
    "    _, img_encoded = cv2.imencode('.jpg', bgr_frame_i)\n",
    "    \n",
    "    # send http request with image and receive response\n",
    "    f = {'binary_file': img_encoded.tobytes()}\n",
    "    #response = requests.post(r'http://127.0.0.1:8000/detect_object', files=f)\n",
    "    response = requests.post(r'http://127.0.0.1:8000/mirrow', files=f)\n",
    "    res = response.content\n",
    "\n",
    "    # decode binary\n",
    "    array_received = np.frombuffer(res, np.uint8)\n",
    "\n",
    "    # reshape array\n",
    "    img_bgr_received = array_received.reshape(bgr_frame_i.shape)\n",
    "\n",
    "    cv2.imshow('Received image', img_bgr_received)\n",
    "    cv2.imshow('Sent Image', bgr_frame_i)\n",
    "\n",
    "    #Waits for a user input to quit the application\n",
    "    if cv2.waitKey(1) & 0xFF == ord('q'):\n",
    "        break\n",
    "\n",
    "\n",
    "print('We reached the end...')\n",
    "\n",
    "# When everything done, release the capture\n",
    "cap.release()\n",
    "cv2.destroyAllWindows()"
   ]
  },
  {
   "cell_type": "markdown",
   "metadata": {},
   "source": [
    "### one way (Send image, perform object detection on server side without sending image back)"
   ]
  },
  {
   "cell_type": "code",
   "execution_count": null,
   "metadata": {},
   "outputs": [],
   "source": [
    "# Configure camera\n",
    "cap = cv2.VideoCapture(0)\n",
    "cap.set(3, WIDTH)\n",
    "cap.set(4, HEIGHT)\n",
    "\n",
    "while(True):\n",
    "    # Capture frame-by-frame\n",
    "    ret, bgr_frame_i = cap.read()\n",
    "    \n",
    "    # encode image as jpeg\n",
    "    _, img_encoded = cv2.imencode('.jpg', bgr_frame_i)\n",
    "    \n",
    "    # send http request with image and receive response\n",
    "    f = {'binary_file': img_encoded.tobytes()}\n",
    "    #response = requests.post(r'http://127.0.0.1:8000/detect_object', files=f)\n",
    "    response = requests.post(r'http://127.0.0.1:8000/one_way', files=f)\n",
    "    res = response.content\n",
    "\n",
    "    # decode binary\n",
    "    print(res)\n",
    "\n",
    "    cv2.imshow('Sent Image', bgr_frame_i)\n",
    "\n",
    "    #Waits for a user input to quit the application\n",
    "    if cv2.waitKey(1) & 0xFF == ord('q'):\n",
    "        break\n",
    "\n",
    "\n",
    "print('We reached the end...')\n",
    "\n",
    "# When everything done, release the capture\n",
    "cap.release()\n",
    "cv2.destroyAllWindows()"
   ]
  },
  {
   "cell_type": "code",
   "execution_count": null,
   "metadata": {},
   "outputs": [],
   "source": []
  }
 ],
 "metadata": {
  "kernelspec": {
   "display_name": "yolov4-tf",
   "language": "python",
   "name": "yolov4-tf"
  },
  "language_info": {
   "codemirror_mode": {
    "name": "ipython",
    "version": 3
   },
   "file_extension": ".py",
   "mimetype": "text/x-python",
   "name": "python",
   "nbconvert_exporter": "python",
   "pygments_lexer": "ipython3",
   "version": "3.8.8"
  }
 },
 "nbformat": 4,
 "nbformat_minor": 4
}
